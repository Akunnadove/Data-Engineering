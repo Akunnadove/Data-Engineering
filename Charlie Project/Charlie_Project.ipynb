{
 "cells": [
  {
   "cell_type": "markdown",
   "id": "79e228ec",
   "metadata": {},
   "source": [
    "# DATA ENGINEERING"
   ]
  },
  {
   "cell_type": "markdown",
   "id": "92d57e6f",
   "metadata": {},
   "source": [
    "### WEB SCRAPING "
   ]
  },
  {
   "cell_type": "code",
   "execution_count": 1,
   "id": "2cba1553",
   "metadata": {},
   "outputs": [
    {
     "name": "stdout",
     "output_type": "stream",
     "text": [
      "['Premium Motor Spirit (PMS) ', 'Automatic Gasoline Oil (AGO)', 'National Household Kerosene (NHK) ', 'Liquefied Petroleum Gas 5Kg (LPG) ']\n",
      "['173.08', '671.08', '679.54', '3921.35']\n"
     ]
    }
   ],
   "source": [
    "# ---- IMPORTING LIBRARIES\n",
    "import requests\n",
    "import smtplib\n",
    "import time\n",
    "import gspread\n",
    "import csv\n",
    "from bs4 import BeautifulSoup\n",
    "from email import encoders\n",
    "from email.mime.multipart import MIMEMultipart\n",
    "from email.mime.base import MIMEBase\n",
    "from email.mime.text import MIMEText \n",
    "from datetime import date\n",
    "\n",
    "\n",
    "# ---- WEBSITE LINK TO BE SCRAPED\n",
    "url=\"https://www.nigerianstat.gov.ng\"\n",
    " \n",
    "# ---- USER AGENT\n",
    "headers = {'User-Agent':'Mozilla/5.0 (Windows NT 10.0; Win64; x64) AppleWebKit/537.36 (KHTML, like Gecko) Chrome/102.0.5005.63 Safari/537.36'}\n",
    "\n",
    "# ---- CSV CREATION AND INSTANTIATION\n",
    "current_date = str(date.today()) + \".csv\"\n",
    "csv_file = open(current_date,\"w\")\n",
    "csv_writer = csv.writer(csv_file)\n",
    "\n",
    "# ---- ADD COLUMNS TO THE CSV\n",
    "csv_writer.writerow(['Section','Current Prices'])\n",
    "\n",
    "#LISTS TO STORE THE SCRAPED VALUES\n",
    "section_list = [] \n",
    "price_list = []\n",
    "\n",
    "# ---- ESTABLISHING CONNECTION WITH THE WEBSITE LINK\n",
    "html_page = requests.get(url, headers=headers)\n",
    "soup = BeautifulSoup(html_page.content, 'lxml')\n",
    "\n",
    "# ---- MAPPING OUT THE AREA TO BE SCRAPED\n",
    "general_info = soup.find_all(\"div\", class_=\"row\")[5].find_all(\"div\", class_=\"col-lg-3 col-md-6 col-sm-6 col-xs-12\")\n",
    "\n",
    "# ---- SCRAPING THROUGH THE MAPPED OUT AREA IN A LOOP \n",
    "for i in range(0,4):\n",
    "        \n",
    "        #GETTING THE SECTION TITLE AND ADDING TO THE EXISTING LIST\n",
    "        current_section = general_info[i].find_all(\"a\")[0].get_text()\n",
    "        section_list.append(current_section) \n",
    "        \n",
    "        #GETTING THE SECTION PRICES AND ADDING TO THE EXISTING LIST\n",
    "        current_prices = general_info[i].find_all(\"span\")[0].get_text()\n",
    "        price_list.append(current_prices) \n",
    "\n",
    "# ---- VIEWING THE LISTS\n",
    "print(section_list)\n",
    "print(price_list) \n",
    "\n",
    "# ---- CONVERT THE LISTS ROWS TO COLUMNS\n",
    "r = zip(section_list,price_list)\n",
    "\n",
    "for row in r:\n",
    "        csv_writer.writerow(row)\n",
    "\n",
    "# ---- INSTATIATING THE EXECUTION SESSION TIME\n",
    "time.sleep(5)\n",
    "\n",
    "# ---- CLOSING THE CSV FILE \n",
    "csv_file.close()\n"
   ]
  },
  {
   "cell_type": "code",
   "execution_count": 2,
   "id": "a8cd73c6",
   "metadata": {},
   "outputs": [
    {
     "data": {
      "text/plain": [
       "['Premium Motor Spirit (PMS) ',\n",
       " 'Automatic Gasoline Oil (AGO)',\n",
       " 'National Household Kerosene (NHK) ',\n",
       " 'Liquefied Petroleum Gas 5Kg (LPG) ']"
      ]
     },
     "execution_count": 2,
     "metadata": {},
     "output_type": "execute_result"
    }
   ],
   "source": [
    "section_list"
   ]
  },
  {
   "cell_type": "code",
   "execution_count": 3,
   "id": "e97f097d",
   "metadata": {},
   "outputs": [
    {
     "data": {
      "text/plain": [
       "['173.08', '671.08', '679.54', '3921.35']"
      ]
     },
     "execution_count": 3,
     "metadata": {},
     "output_type": "execute_result"
    }
   ],
   "source": [
    "price_list"
   ]
  },
  {
   "cell_type": "markdown",
   "id": "1cbebbd0",
   "metadata": {},
   "source": [
    "### CONNECTING TO THE GOOGLESHEET"
   ]
  },
  {
   "cell_type": "code",
   "execution_count": 4,
   "id": "7910ab40",
   "metadata": {},
   "outputs": [
    {
     "data": {
      "text/plain": [
       "{'spreadsheetId': '1njhHOL1HZT0BWHTqge2QbOFKppdmpejr3lWSFcms_Jo',\n",
       " 'updatedRange': 'Data!B2:B6',\n",
       " 'updatedRows': 5,\n",
       " 'updatedColumns': 1,\n",
       " 'updatedCells': 5}"
      ]
     },
     "execution_count": 4,
     "metadata": {},
     "output_type": "execute_result"
    }
   ],
   "source": [
    "cred_file = \"charlie.json\"\n",
    "gc = gspread.service_account(cred_file)\n",
    "\n",
    "# ESTABLISH THE CONNECTION\n",
    "database = gc.open(\"Charlie\")\n",
    "\n",
    "# SELECTING A WORKSHEET\n",
    "wks = database.worksheet(\"Data\")\n",
    "\n",
    "# BULK UPDATE NEW CELLS WITH VALUES\n",
    "cell_list_one = wks.range(\"A2:A6\")\n",
    "cell_values_one = section_list\n",
    "\n",
    "for i, val in enumerate(cell_values_one):\n",
    "    cell_list_one[i].value = val\n",
    "    \n",
    "wks.update_cells(cell_list_one)\n",
    "\n",
    "# BULK UPDATE NEW CELLS WITH VALUES\n",
    "cell_list_two = wks.range(\"B2:B6\")\n",
    "cell_values_two = price_list\n",
    "\n",
    "for i, val in enumerate(cell_values_two):\n",
    "    cell_list_two[i].value = val\n",
    "    \n",
    "wks.update_cells(cell_list_two)"
   ]
  }
 ],
 "metadata": {
  "kernelspec": {
   "display_name": "Python 3",
   "language": "python",
   "name": "python3"
  },
  "language_info": {
   "codemirror_mode": {
    "name": "ipython",
    "version": 3
   },
   "file_extension": ".py",
   "mimetype": "text/x-python",
   "name": "python",
   "nbconvert_exporter": "python",
   "pygments_lexer": "ipython3",
   "version": "3.8.8"
  }
 },
 "nbformat": 4,
 "nbformat_minor": 5
}
